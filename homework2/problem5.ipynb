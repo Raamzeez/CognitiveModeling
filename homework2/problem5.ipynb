{
 "cells": [
  {
   "cell_type": "markdown",
   "metadata": {},
   "source": [
    "# Problem 5: Murder Mystery Revised\n",
    "## Story\n",
    "Another murder has been committed in Troy Hollows. This time, the suspects are the maid $(m)$ and the chauffeur $(c)$. \n",
    "\n",
    "The police have collected three items with the suspects’ fingerprints: an iron $(i)$, car keys $(k)$, and a plastic bag $(p)$. \n",
    "## Probabilities\n",
    "### Suspects\n",
    "$P(c) = 0.75$\n",
    "\n",
    "$P(m) = 0.25$\n",
    "### Weapons given Suspect\n",
    "#### Chauffeur\n",
    "$P(i|c) = 0.05$\n",
    "\n",
    "$P(k|c) = 0.9$\n",
    "\n",
    "$P(p|c) = 0.05$\n",
    "\n",
    "The chauffeur is highly likely to hvae the eys and very unlikely to have anything else.\n",
    "#### Maid\n",
    "$P(i|m) = 0.45$\n",
    "\n",
    "$P(k|m) = 0.1$\n",
    "\n",
    "$P(p|m) = 0.45$\n",
    "\n",
    "The maid is equally likely to have the iron and a plastic bag, and unlikely to have the keys.\n",
    "#### Table\n",
    "$$i~~~~~~~~~~k~~~~~~~~~~p \\\\\n",
    "\\begin{matrix}\n",
    "c \\\\\n",
    "m \\\\ \n",
    "\\end{matrix}\n",
    "\\begin{pmatrix}\n",
    "0.0375 & 0.675 & 0.0375 \\\\\n",
    "0.1125 & 0.025 & 0.1125 \\\\\n",
    "\\end{pmatrix}$$\n"
   ]
  },
  {
   "cell_type": "code",
   "execution_count": 1,
   "metadata": {},
   "outputs": [],
   "source": [
    "import numpy as np\n",
    "import matplotlib.pyplot as plt\n",
    "import seaborn as sns"
   ]
  },
  {
   "cell_type": "code",
   "execution_count": 2,
   "metadata": {},
   "outputs": [],
   "source": [
    "def draw_suspect():\n",
    "    return np.random.choice([\"m\", \"c\"], p=[0.25, 0.75])"
   ]
  },
  {
   "cell_type": "code",
   "execution_count": 12,
   "metadata": {},
   "outputs": [],
   "source": [
    "def observation_model(suspect: str):\n",
    "    outcomes = [\"i\", \"k\", \"p\"]\n",
    "    if suspect == \"m\":\n",
    "        return np.random.choice(outcomes, p=[0.45, 0.1, 0.45])\n",
    "    return np.random.choice(outcomes, p=[0.05, 0.9, 0.05])"
   ]
  },
  {
   "cell_type": "code",
   "execution_count": 13,
   "metadata": {},
   "outputs": [],
   "source": [
    "def simulate_many(num_simulations: int = 100_000):\n",
    "    simulations = []\n",
    "    for _ in range(num_simulations):\n",
    "        suspect = draw_suspect()\n",
    "        observation = observation_model(suspect)\n",
    "        simulations.append(f\"{suspect}-{observation}\")\n",
    "    return simulations"
   ]
  },
  {
   "cell_type": "code",
   "execution_count": 14,
   "metadata": {},
   "outputs": [],
   "source": [
    "simulations = simulate_many()\n",
    "\n",
    "scenarios, frequencies = np.unique(simulations, return_counts=True)"
   ]
  },
  {
   "cell_type": "code",
   "execution_count": 15,
   "metadata": {},
   "outputs": [
    {
     "data": {
      "text/plain": [
       "(array(['c-i', 'c-k', 'c-p', 'm-i', 'm-k', 'm-p'], dtype='<U3'),\n",
       " array([ 3766, 67467,  3727, 11297,  2474, 11269]))"
      ]
     },
     "execution_count": 15,
     "metadata": {},
     "output_type": "execute_result"
    }
   ],
   "source": [
    "scenarios, frequencies"
   ]
  },
  {
   "cell_type": "code",
   "execution_count": 16,
   "metadata": {},
   "outputs": [
    {
     "data": {
      "text/plain": [
       "array([0.0377, 0.6747, 0.0373, 0.113 , 0.0247, 0.1127])"
      ]
     },
     "execution_count": 16,
     "metadata": {},
     "output_type": "execute_result"
    }
   ],
   "source": [
    "probabilities = np.round(frequencies / frequencies.sum(), 4)\n",
    "\n",
    "probabilities"
   ]
  },
  {
   "cell_type": "code",
   "execution_count": 17,
   "metadata": {},
   "outputs": [
    {
     "name": "stdout",
     "output_type": "stream",
     "text": [
      "     i\t    k\t   p\n",
      "c [0.0377 0.6747 0.0373]\n",
      "m [0.113  0.0247 0.1127]\n"
     ]
    }
   ],
   "source": [
    "print(\"     i\\t    k\\t   p\")\n",
    "print(\"c\", probabilities[:3])\n",
    "print(\"m\", probabilities[3:])"
   ]
  },
  {
   "cell_type": "markdown",
   "metadata": {},
   "source": [
    "This table is a close match to the expected table above. Below $N = 100,000$, the match is less accurate. Higher than this yields diminishing returns. $N=100,000$ is the ideal number."
   ]
  }
 ],
 "metadata": {
  "kernelspec": {
   "display_name": "cognitive",
   "language": "python",
   "name": "python3"
  },
  "language_info": {
   "codemirror_mode": {
    "name": "ipython",
    "version": 3
   },
   "file_extension": ".py",
   "mimetype": "text/x-python",
   "name": "python",
   "nbconvert_exporter": "python",
   "pygments_lexer": "ipython3",
   "version": "3.12.0"
  }
 },
 "nbformat": 4,
 "nbformat_minor": 2
}
