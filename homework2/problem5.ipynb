{
 "cells": [
  {
   "cell_type": "markdown",
   "metadata": {},
   "source": [
    "# Problem 5: Murder Mystery Revised\n",
    "## Story\n",
    "Another murder has been committed in Troy Hollows. This time, the suspects are the maid $(m)$ and the chauffeur $(c)$. \n",
    "\n",
    "The police have collected three items with the suspects’ fingerprints: an iron $(i)$, car keys $(k)$, and a plastic bag $(p)$. \n",
    "## Probabilities\n",
    "### Suspects\n",
    "$P(c) = 0.75$\n",
    "\n",
    "$P(m) = 0.25$\n",
    "### Weapons given Suspect\n",
    "#### Chauffeur\n",
    "$P(i|c) = 0.05$\n",
    "\n",
    "$P(k|c) = 0.9$\n",
    "\n",
    "$P(p|c) = 0.05$\n",
    "\n",
    "The chauffeur is highly likely to hvae the eys and very unlikely to have anything else.\n",
    "#### Maid\n",
    "$P(i|m) = 0.45$\n",
    "\n",
    "$P(k|m) = 0.1$\n",
    "\n",
    "$P(p|m) = 0.45$\n",
    "\n",
    "The maid is equally likely to have the iron and a plastic bag, and unlikely to have the keys.\n",
    "#### Table\n",
    "$$i~~~~~~~~~~k~~~~~~~~~~p \\\\\n",
    "\\begin{matrix}\n",
    "c \\\\\n",
    "m \\\\ \n",
    "\\end{matrix}\n",
    "\\begin{pmatrix}\n",
    "0.0375 & 0.675 & 0.0375 \\\\\n",
    "0.1125 & 0.025 & 0.1125 \\\\\n",
    "\\end{pmatrix}$$\n"
   ]
  },
  {
   "cell_type": "code",
   "execution_count": 61,
   "metadata": {},
   "outputs": [],
   "source": [
    "import numpy as np\n",
    "import matplotlib.pyplot as plt\n",
    "import seaborn as sns"
   ]
  },
  {
   "cell_type": "code",
   "execution_count": 62,
   "metadata": {},
   "outputs": [],
   "source": [
    "def draw_suspect():\n",
    "    return np.random.choice([\"m\", \"c\"], p=[0.25, 0.75])"
   ]
  },
  {
   "cell_type": "code",
   "execution_count": 63,
   "metadata": {},
   "outputs": [],
   "source": [
    "def observation_model(s: str):\n",
    "    w = [\"i\", \"k\", \"p\"]\n",
    "    if s == \"m\":\n",
    "        return np.random.choice(w, p=[0.45, 0.1, 0.45])\n",
    "    return np.random.choice(w, p=[0.05, 0.9, 0.05])"
   ]
  },
  {
   "cell_type": "code",
   "execution_count": 64,
   "metadata": {},
   "outputs": [],
   "source": [
    "def simulate_many(num_sims: int = 100_000):\n",
    "    sims = []\n",
    "    for _ in range(num_sims):\n",
    "        s = draw_suspect()\n",
    "        w = observation_model(s)\n",
    "        sims.append(f\"{s}-{w}\")\n",
    "    return sims"
   ]
  },
  {
   "cell_type": "code",
   "execution_count": 65,
   "metadata": {},
   "outputs": [],
   "source": [
    "sims = simulate_many()\n",
    "\n",
    "scenarios, freqs = np.unique(sims, return_counts=True)"
   ]
  },
  {
   "cell_type": "code",
   "execution_count": 66,
   "metadata": {},
   "outputs": [
    {
     "data": {
      "text/plain": [
       "(array(['c-i', 'c-k', 'c-p', 'm-i', 'm-k', 'm-p'], dtype='<U3'),\n",
       " array([ 3783, 67493,  3716, 11232,  2495, 11281]))"
      ]
     },
     "execution_count": 66,
     "metadata": {},
     "output_type": "execute_result"
    }
   ],
   "source": [
    "scenarios, freqs"
   ]
  },
  {
   "cell_type": "code",
   "execution_count": 67,
   "metadata": {},
   "outputs": [
    {
     "data": {
      "text/plain": [
       "array([0.0378, 0.6749, 0.0372, 0.1123, 0.025 , 0.1128])"
      ]
     },
     "execution_count": 67,
     "metadata": {},
     "output_type": "execute_result"
    }
   ],
   "source": [
    "np.round(freqs / freqs.sum(), 4)"
   ]
  },
  {
   "cell_type": "code",
   "execution_count": 96,
   "metadata": {},
   "outputs": [
    {
     "name": "stdout",
     "output_type": "stream",
     "text": [
      "     i\t    k\t   p\n",
      "c [0.0378 0.6749 0.0372]\n",
      "m [0.1123 0.025  0.1128]\n"
     ]
    }
   ],
   "source": [
    "print(\"     i\\t    k\\t   p\")\n",
    "rounded = np.round(freqs / freqs.sum(), 4)\n",
    "print(\"c\", rounded[:3])\n",
    "print(\"m\", rounded[3:])"
   ]
  },
  {
   "cell_type": "markdown",
   "metadata": {},
   "source": [
    "This table is a close match to the expected table above. Below $N = 100,000$, the match is less accurate. Higher than this yields diminishing returns. $N=100,000$ is the ideal number."
   ]
  }
 ],
 "metadata": {
  "kernelspec": {
   "display_name": "cognitive",
   "language": "python",
   "name": "python3"
  },
  "language_info": {
   "codemirror_mode": {
    "name": "ipython",
    "version": 3
   },
   "file_extension": ".py",
   "mimetype": "text/x-python",
   "name": "python",
   "nbconvert_exporter": "python",
   "pygments_lexer": "ipython3",
   "version": "3.12.0"
  }
 },
 "nbformat": 4,
 "nbformat_minor": 2
}
