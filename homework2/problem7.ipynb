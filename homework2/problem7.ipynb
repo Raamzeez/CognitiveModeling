{
 "cells": [
  {
   "cell_type": "code",
   "execution_count": 4,
   "metadata": {},
   "outputs": [
    {
     "name": "stdout",
     "output_type": "stream",
     "text": [
      "Custom function result: 0.03836759318252469\n",
      "SciPy function result: 0.03836759318252468\n"
     ]
    }
   ],
   "source": [
    "import numpy as np\n",
    "\n",
    "def multivariate_normal_density(x, mu, Sigma):\n",
    "    \"\"\"\n",
    "    Computes the probability density function of a multivariate normal distribution.\n",
    "    \n",
    "    Parameters:\n",
    "    - x: D-dimensional vector (numpy array)\n",
    "    - mu: D-dimensional mean vector (numpy array)\n",
    "    - Sigma: D x D covariance matrix (numpy array)\n",
    "\n",
    "    Returns:\n",
    "    - Probability density of x given the mean and covariance.\n",
    "    \"\"\"\n",
    "    D = len(mu)\n",
    "    Sigma_inv = np.linalg.inv(Sigma)\n",
    "    det_Sigma = np.linalg.det(Sigma)\n",
    "    norm_const = 1 / ((2 * np.pi) ** (D / 2) * np.sqrt(det_Sigma))\n",
    "    exponent = -0.5 * (x - mu).T @ Sigma_inv @ (x - mu)\n",
    "    return norm_const * np.exp(exponent)\n",
    "\n",
    "D = 2\n",
    "x = np.array([1.0, 2.0])\n",
    "mu = np.array([0.0, 0.0])\n",
    "Sigma = np.array([[1.0, 0.5], [0.5, 2.0]])\n",
    "\n",
    "custom_density = multivariate_normal_density(x, mu, Sigma)\n",
    "\n",
    "scipy_density = multivariate_normal(mean=mu, cov=Sigma).pdf(x)\n",
    "\n",
    "print(f\"Custom function result: {custom_density}\")\n",
    "print(f\"SciPy function result: {scipy_density}\")"
   ]
  }
 ],
 "metadata": {
  "kernelspec": {
   "display_name": "cognitive",
   "language": "python",
   "name": "python3"
  },
  "language_info": {
   "codemirror_mode": {
    "name": "ipython",
    "version": 3
   },
   "file_extension": ".py",
   "mimetype": "text/x-python",
   "name": "python",
   "nbconvert_exporter": "python",
   "pygments_lexer": "ipython3",
   "version": "3.12.0"
  }
 },
 "nbformat": 4,
 "nbformat_minor": 2
}
